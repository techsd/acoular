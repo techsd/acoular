{
  "cells": [
    {
      "cell_type": "markdown",
      "metadata": {},
      "source": [
        "\n# Parallel processing chains -- SampleSplitter buffer handling.\n\nThis example shows the different behaviour of SampleSplitter class\nwhen the maximum size of a block buffer is reached for one object obtaining\ndata.\n\nThree different settings are available for the buffer overflow behaviour:\n    * none: no warning, no error\n    * warning: a warning appears\n    * error: an error is raised\n"
      ]
    },
    {
      "cell_type": "code",
      "execution_count": null,
      "metadata": {
        "collapsed": false
      },
      "outputs": [],
      "source": [
        "import threading\nfrom time import sleep\n\nimport acoular as ac\nimport numpy as np"
      ]
    },
    {
      "cell_type": "markdown",
      "metadata": {},
      "source": [
        "Set up data source. For convenience, we use a synthetic white noise with length of 1 s.\n\n"
      ]
    },
    {
      "cell_type": "code",
      "execution_count": null,
      "metadata": {
        "collapsed": false
      },
      "outputs": [],
      "source": [
        "fs = 16000\nts = ac.TimeSamples(data=np.random.randn(fs * 1)[:, np.newaxis], sample_freq=fs)"
      ]
    },
    {
      "cell_type": "markdown",
      "metadata": {},
      "source": [
        "Connect SampleSplitter to data source. We limit the buffer size to 5 blocks.\n\n"
      ]
    },
    {
      "cell_type": "code",
      "execution_count": null,
      "metadata": {
        "collapsed": false
      },
      "outputs": [],
      "source": [
        "ss = ac.SampleSplitter(source=ts, buffer_size=5)"
      ]
    },
    {
      "cell_type": "markdown",
      "metadata": {},
      "source": [
        "Create three objects to process the data\n\n"
      ]
    },
    {
      "cell_type": "code",
      "execution_count": null,
      "metadata": {
        "collapsed": false
      },
      "outputs": [],
      "source": [
        "tp1 = ac.TimePower(source=ss)\ntp2 = ac.TimePower(source=ss)\n\n# register these objects at SampleSplitter\nss.register_object(tp1, tp2)  # register objects"
      ]
    },
    {
      "cell_type": "markdown",
      "metadata": {},
      "source": [
        "Define some useful functions for inspecting and for reading data from\nthe SampleSplitter buffers. Three different functions are defined to\nsimulate different processing speeds (fast, slow).\n\n"
      ]
    },
    {
      "cell_type": "code",
      "execution_count": null,
      "metadata": {
        "collapsed": false
      },
      "outputs": [],
      "source": [
        "def print_number_of_blocks_in_block_buffers():\n    \"\"\"Prints the number of data blocks in SampleSplitter-buffers. For each\n    subsequent object, a buffer exist.\n    \"\"\"\n    buffers = list(ss.block_buffer.values())\n    elements = [len(buf) for buf in buffers]\n    print(f\"num blocks in buffers: {dict(zip(['tp1','tp2'], elements))}\")\n\n\ndef get_data_fast(obj):  # not time consuming function\n    \"\"\"Gets data fast (pause 0.01 seconds)\"\"\"\n    for _ in obj.result(2048):  #\n        print('tp1 calls sample splitter')\n        print_number_of_blocks_in_block_buffers()\n        sleep(0.01)\n\n\ndef get_data_slow(obj):  # more time consuming function\n    \"\"\"Gets data slow (pause 0.1 seconds)\"\"\"\n    for i in obj.result(2048):  #\n        print('tp2 calls sample splitter')\n        print_number_of_blocks_in_block_buffers()\n        sleep(0.1)"
      ]
    },
    {
      "cell_type": "markdown",
      "metadata": {},
      "source": [
        "Prepare and start processing in threads\n(no warning or error when block buffer is full)\n\n"
      ]
    },
    {
      "cell_type": "code",
      "execution_count": null,
      "metadata": {
        "collapsed": false
      },
      "outputs": [],
      "source": [
        "print(\"buffer overflow behaviour == 'none'\")\n\nss.buffer_overflow_treatment[tp1] = 'none'\nss.buffer_overflow_treatment[tp2] = 'none'\n\nworker1 = threading.Thread(target=get_data_fast, args=(tp1,))\nworker2 = threading.Thread(target=get_data_slow, args=(tp2,))\n\nprint('start threads')\n\nworker1.start()\nworker2.start()\n\nworker1.join()\nworker2.join()\n\nprint('threads finished')"
      ]
    },
    {
      "cell_type": "markdown",
      "metadata": {},
      "source": [
        "Prepare and start processing in threads\n(only warning when block buffer is full)\n\n"
      ]
    },
    {
      "cell_type": "code",
      "execution_count": null,
      "metadata": {
        "collapsed": false
      },
      "outputs": [],
      "source": [
        "print(\"buffer overflow behaviour == 'warning'\")\n\nss.buffer_overflow_treatment[tp1] = 'warning'\nss.buffer_overflow_treatment[tp2] = 'warning'\n\nworker1 = threading.Thread(target=get_data_fast, args=(tp1,))\nworker2 = threading.Thread(target=get_data_slow, args=(tp2,))\n\nprint('start threads')\n\nworker1.start()\nworker2.start()\n\nworker1.join()\nworker2.join()\n\nprint('threads finished')"
      ]
    },
    {
      "cell_type": "markdown",
      "metadata": {},
      "source": [
        "Prepare and start processing in threads\n(raise error when block buffer is full)\n\n"
      ]
    },
    {
      "cell_type": "code",
      "execution_count": null,
      "metadata": {
        "collapsed": false
      },
      "outputs": [],
      "source": [
        "print(\"buffer overflow behaviour == 'error'\")\n\nss.buffer_overflow_treatment[tp1] = 'error'\nss.buffer_overflow_treatment[tp2] = 'error'\n\nworker1 = threading.Thread(target=get_data_fast, args=(tp1,))\nworker2 = threading.Thread(target=get_data_slow, args=(tp2,))\n\nprint('start threads')\n\nworker1.start()\nworker2.start()\n\nworker1.join()\nworker2.join()\n\nprint('threads finished')"
      ]
    }
  ],
  "metadata": {
    "kernelspec": {
      "display_name": "Python 3",
      "language": "python",
      "name": "python3"
    },
    "language_info": {
      "codemirror_mode": {
        "name": "ipython",
        "version": 3
      },
      "file_extension": ".py",
      "mimetype": "text/x-python",
      "name": "python",
      "nbconvert_exporter": "python",
      "pygments_lexer": "ipython3",
      "version": "3.12.7"
    }
  },
  "nbformat": 4,
  "nbformat_minor": 0
}