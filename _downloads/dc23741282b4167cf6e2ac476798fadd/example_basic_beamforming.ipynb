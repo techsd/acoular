{
  "cells": [
    {
      "cell_type": "markdown",
      "metadata": {},
      "source": [
        "\n# Basic Beamforming -- Generate a map of three sources.\n\nLoads the simulated signals from the `three_sources.h5` file, analyzes them with Conventional Beamforming\nand generates a map of the three sources.\n\n<div class=\"alert alert-info\"><h4>Note</h4><p>The `three_sources.h5` file must be generated first by running the :doc:`example_three_sources` example.</p></div>\n"
      ]
    },
    {
      "cell_type": "code",
      "execution_count": null,
      "metadata": {
        "collapsed": false
      },
      "outputs": [],
      "source": [
        "from pathlib import Path\n\nimport acoular as ac\nfrom pylab import axis, colorbar, figure, imshow, plot, show\n\nmicgeofile = Path(ac.__file__).parent / 'xml' / 'array_64.xml'\ndatafile = Path('three_sources.h5')\nassert datafile.exists(), 'Data file not found, run example_three_sources.py first'\n\nmg = ac.MicGeom(from_file=micgeofile)\nts = ac.TimeSamples(name=datafile)\nps = ac.PowerSpectra(source=ts, block_size=128, window='Hanning')\nrg = ac.RectGrid(x_min=-0.2, x_max=0.2, y_min=-0.2, y_max=0.2, z=0.3, increment=0.01)\nst = ac.SteeringVector(grid=rg, mics=mg)\nbb = ac.BeamformerBase(freq_data=ps, steer=st)\npm = bb.synthetic(8000, 3)\nLm = ac.L_p(pm)\nimshow(Lm.T, origin='lower', vmin=Lm.max() - 10, extent=rg.extend(), interpolation='bicubic')\ncolorbar()\nfigure(2)\nplot(mg.mpos[0], mg.mpos[1], 'o')\naxis('equal')\nshow()"
      ]
    }
  ],
  "metadata": {
    "kernelspec": {
      "display_name": "Python 3",
      "language": "python",
      "name": "python3"
    },
    "language_info": {
      "codemirror_mode": {
        "name": "ipython",
        "version": 3
      },
      "file_extension": ".py",
      "mimetype": "text/x-python",
      "name": "python",
      "nbconvert_exporter": "python",
      "pygments_lexer": "ipython3",
      "version": "3.12.7"
    }
  },
  "nbformat": 4,
  "nbformat_minor": 0
}