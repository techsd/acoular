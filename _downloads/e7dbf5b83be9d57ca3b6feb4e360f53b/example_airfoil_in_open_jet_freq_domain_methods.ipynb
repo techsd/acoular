{
  "cells": [
    {
      "cell_type": "markdown",
      "metadata": {},
      "source": [
        "\n# Airfoil in open jet -- Frequency domain beamforming methods.\n\nDemonstrates different microphone array methods operating in the frequency domain.\nUses measured data in file example_data.h5, calibration in file example_calib.xml,\nmicrophone geometry in array_56.xml (part of Acoular).\n"
      ]
    },
    {
      "cell_type": "code",
      "execution_count": null,
      "metadata": {
        "collapsed": false
      },
      "outputs": [],
      "source": [
        "import urllib\nfrom pathlib import Path\n\nimport acoular as ac"
      ]
    },
    {
      "cell_type": "code",
      "execution_count": null,
      "metadata": {
        "collapsed": false
      },
      "outputs": [],
      "source": [
        "calib_file = Path('../data/example_calib.xml')\nif not calib_file.exists():\n    calib_file = Path().cwd() / 'example_calib.xml'\n    if not calib_file.exists():\n        print('Cannot find calibration file. Downloading...')\n        url = 'https://github.com/acoular/acoular/tree/master/examples/data/example_calib.xml'\n        urllib.request.urlretrieve(url, calib_file)\n    print(f'Calibration file location: {calib_file}')\n\ntime_data_file = Path('../data/example_data.h5')\nif not time_data_file.exists():\n    time_data_file = Path().cwd() / 'example_data.h5'\n    if not time_data_file.exists():\n        print('Cannot find example_data.h5 file. Downloading...')\n        url = 'https://github.com/acoular/acoular/tree/master/examples/data/example_data.h5'\n        time_data_file, _ = urllib.request.urlretrieve(url, time_data_file)\n    print(f'Time data file location: {time_data_file}')"
      ]
    },
    {
      "cell_type": "markdown",
      "metadata": {},
      "source": [
        "The 4 kHz third-octave band is used for the example.\n\n"
      ]
    },
    {
      "cell_type": "code",
      "execution_count": null,
      "metadata": {
        "collapsed": false
      },
      "outputs": [],
      "source": [
        "cfreq = 4000\nnum = 3"
      ]
    },
    {
      "cell_type": "markdown",
      "metadata": {},
      "source": [
        "Setting up the processing chain for the frequency domain methods.\n\n.. hint::\n   An in-depth explanation for setting up the processing chain is given in the example :doc:`example_airfoil_in_open_jet_steering_vectors`.\n\n"
      ]
    },
    {
      "cell_type": "code",
      "execution_count": null,
      "metadata": {
        "collapsed": false
      },
      "outputs": [],
      "source": [
        "ts = ac.MaskedTimeSamples(\n    name=time_data_file,\n    invalid_channels=[1, 7],\n    start=0,\n    stop=16000,\n    calib=ac.Calib(from_file=calib_file),\n)\nmics = ac.MicGeom(from_file=Path(ac.__file__).parent / 'xml' / 'array_56.xml', invalid_channels=[1, 7])\ngrid = ac.RectGrid(x_min=-0.6, x_max=-0.0, y_min=-0.3, y_max=0.3, z=0.68, increment=0.05)\nenv = ac.Environment(c=346.04)\nst = ac.SteeringVector(grid=grid, mics=mics, env=env)\nf = ac.PowerSpectra(source=ts, window='Hanning', overlap='50%', block_size=128)"
      ]
    },
    {
      "cell_type": "markdown",
      "metadata": {},
      "source": [
        "Here, different frequency domain beamformers defined in the module :mod:`acoular.fbeamform` are used and the corresponding result maps are calculated by\nevaluating the :meth:`acoular.fbeamform.BeamformerBase.synthetic` method with the desired frequency and bandwidth.\n\n"
      ]
    },
    {
      "cell_type": "code",
      "execution_count": null,
      "metadata": {
        "collapsed": false
      },
      "outputs": [],
      "source": [
        "bb = ac.BeamformerBase(freq_data=f, steer=st, r_diag=True)\nbc = ac.BeamformerCapon(freq_data=f, steer=st, cached=False)\nbe = ac.BeamformerEig(freq_data=f, steer=st, r_diag=True, n=54)\nbm = ac.BeamformerMusic(freq_data=f, steer=st, n=6)\nbd = ac.BeamformerDamas(freq_data=f, steer=st, r_diag=True, n_iter=100)\nbdp = ac.BeamformerDamasPlus(freq_data=f, steer=st, r_diag=True, n_iter=100)\nbo = ac.BeamformerOrth(freq_data=f, steer=st, r_diag=True, eva_list=list(range(38, 54)))\nbs = ac.BeamformerCleansc(freq_data=f, steer=st, r_diag=True)\nbcmf = ac.BeamformerCMF(freq_data=f, steer=st, method='LassoLarsBIC')\nbl = ac.BeamformerClean(freq_data=f, steer=st, r_diag=True, n_iter=100)\nbf = ac.BeamformerFunctional(freq_data=f, steer=st, r_diag=False, gamma=4)\nbgib = ac.BeamformerGIB(freq_data=f, steer=st, method='LassoLars', n=10)"
      ]
    },
    {
      "cell_type": "markdown",
      "metadata": {},
      "source": [
        "Plot result maps for different beamformers in frequency domain\n\n"
      ]
    },
    {
      "cell_type": "code",
      "execution_count": null,
      "metadata": {
        "collapsed": false
      },
      "outputs": [],
      "source": [
        "from pylab import colorbar, figure, imshow, show, subplot, tight_layout, title\n\nfigure(1, (10, 6))\ni1 = 1  # no of subplot\nfor b in (bb, bc, be, bm, bl, bo, bs, bd, bcmf, bf, bdp, bgib):\n    subplot(3, 4, i1)\n    i1 += 1\n    map = b.synthetic(cfreq, num)\n    mx = ac.L_p(map.max())\n    imshow(ac.L_p(map.T), origin='lower', vmin=mx - 15, interpolation='nearest', extent=grid.extend())\n    colorbar()\n    title(b.__class__.__name__)\n    tight_layout()\nshow()"
      ]
    }
  ],
  "metadata": {
    "kernelspec": {
      "display_name": "Python 3",
      "language": "python",
      "name": "python3"
    },
    "language_info": {
      "codemirror_mode": {
        "name": "ipython",
        "version": 3
      },
      "file_extension": ".py",
      "mimetype": "text/x-python",
      "name": "python",
      "nbconvert_exporter": "python",
      "pygments_lexer": "ipython3",
      "version": "3.12.7"
    }
  },
  "nbformat": 4,
  "nbformat_minor": 0
}