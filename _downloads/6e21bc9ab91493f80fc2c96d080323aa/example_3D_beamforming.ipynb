{
  "cells": [
    {
      "cell_type": "markdown",
      "metadata": {},
      "source": [
        "\n# 3D Beamforming with CLEAN-SC deconvolution.\n\nDemonstrates a 3D beamforming setup with simulated point sources.\nSimulates data on 64 channel array, subsequent beamforming with CLEAN-SC on 3D grid.\n"
      ]
    },
    {
      "cell_type": "code",
      "execution_count": null,
      "metadata": {
        "collapsed": false
      },
      "outputs": [],
      "source": [
        "from pathlib import Path\n\nimport acoular as ac\nimport numpy as np"
      ]
    },
    {
      "cell_type": "markdown",
      "metadata": {},
      "source": [
        "First, we define the microphone geometry.\n\n"
      ]
    },
    {
      "cell_type": "code",
      "execution_count": null,
      "metadata": {
        "collapsed": false
      },
      "outputs": [],
      "source": [
        "micgeofile = Path(ac.__file__).parent / 'xml' / 'array_64.xml'\nm = ac.MicGeom(from_file=micgeofile)"
      ]
    },
    {
      "cell_type": "markdown",
      "metadata": {},
      "source": [
        "Now, the sources (signals and types/positions) are defined.\n\n"
      ]
    },
    {
      "cell_type": "code",
      "execution_count": null,
      "metadata": {
        "collapsed": false
      },
      "outputs": [],
      "source": [
        "sfreq = 51200\nduration = 1\nnsamples = duration * sfreq\n\nn1 = ac.WNoiseGenerator(sample_freq=sfreq, numsamples=nsamples, seed=1)\nn2 = ac.WNoiseGenerator(sample_freq=sfreq, numsamples=nsamples, seed=2, rms=0.5)\nn3 = ac.WNoiseGenerator(sample_freq=sfreq, numsamples=nsamples, seed=3, rms=0.25)\np1 = ac.PointSource(signal=n1, mics=m, loc=(-0.1, -0.1, 0.3))\np2 = ac.PointSource(signal=n2, mics=m, loc=(0.15, 0, 0.17))\np3 = ac.PointSource(signal=n3, mics=m, loc=(0, 0.1, 0.25))\npa = ac.SourceMixer(sources=[p1, p2, p3])"
      ]
    },
    {
      "cell_type": "markdown",
      "metadata": {},
      "source": [
        "Next, the 3D grid defining the source region is set up (very coarse to enable fast computation for this example)\n\n"
      ]
    },
    {
      "cell_type": "code",
      "execution_count": null,
      "metadata": {
        "collapsed": false
      },
      "outputs": [],
      "source": [
        "g = ac.RectGrid3D(x_min=-0.2, x_max=0.2, y_min=-0.2, y_max=0.2, z_min=0.1, z_max=0.36, increment=0.02)"
      ]
    },
    {
      "cell_type": "markdown",
      "metadata": {},
      "source": [
        "The following provides the cross spectral matrix and defines the CLEAN-SC beamformer.\n\n"
      ]
    },
    {
      "cell_type": "code",
      "execution_count": null,
      "metadata": {
        "collapsed": false
      },
      "outputs": [],
      "source": [
        "f = ac.PowerSpectra(source=pa, window='Hanning', overlap='50%', block_size=128)\nst = ac.SteeringVector(grid=g, mics=m, steer_type='true location')\nb = ac.BeamformerCleansc(freq_data=f, steer=st)"
      ]
    },
    {
      "cell_type": "markdown",
      "metadata": {},
      "source": [
        "Calculate the result for 4 kHz octave band. The result will automatically be cached to disk.\nBy default, the corresponding cache file is located in the cache directory of the current working directory.\n\n"
      ]
    },
    {
      "cell_type": "code",
      "execution_count": null,
      "metadata": {
        "collapsed": false
      },
      "outputs": [],
      "source": [
        "map = b.synthetic(4000, 1)"
      ]
    },
    {
      "cell_type": "markdown",
      "metadata": {},
      "source": [
        "Display views of setup and result.\nFor each view, the values along the repsective axis are summed.\nNote that, while Acoular uses a left-oriented coordinate system,\nfor display purposes, the z-axis is inverted, plotting the data in\na right-oriented coordinate system.\n\n"
      ]
    },
    {
      "cell_type": "code",
      "execution_count": null,
      "metadata": {
        "collapsed": false
      },
      "outputs": [],
      "source": [
        "from pylab import colorbar, figure, imshow, show, subplot, title, xlabel, ylabel\n\nfig = figure(1, (8, 8))\n\n# plot the results\n\nsubplot(221)\nmap_z = np.sum(map, 2)\nmx = ac.L_p(map_z.max())\nimshow(\n    ac.L_p(map_z.T),\n    vmax=mx,\n    vmin=mx - 20,\n    origin='lower',\n    interpolation='nearest',\n    extent=(g.x_min, g.x_max, g.y_min, g.y_max),\n)\nxlabel('x')\nylabel('y')\ntitle('Top view (xy)')\n\nsubplot(223)\nmap_y = np.sum(map, 1)\nimshow(\n    ac.L_p(map_y.T),\n    vmax=mx,\n    vmin=mx - 20,\n    origin='upper',\n    interpolation='nearest',\n    extent=(g.x_min, g.x_max, -g.z_max, -g.z_min),\n)\nxlabel('x')\nylabel('z')\ntitle('Side view (xz)')\n\nsubplot(222)\nmap_x = np.sum(map, 0)\nimshow(\n    ac.L_p(map_x),\n    vmax=mx,\n    vmin=mx - 20,\n    origin='lower',\n    interpolation='nearest',\n    extent=(-g.z_min, -g.z_max, g.y_min, g.y_max),\n)\nxlabel('z')\nylabel('y')\ntitle('Side view (zy)')\ncolorbar()\n\nax0 = fig.add_subplot((224), projection='3d')\nax0.scatter(m.mpos[0], m.mpos[1], -m.mpos[2])\nsource_locs = np.array([p1.loc, p2.loc, p3.loc]).T\nax0.scatter(source_locs[0], source_locs[1], -source_locs[2])\nax0.set_xlabel('x')\nax0.set_ylabel('y')\nax0.set_zlabel('z')\nax0.set_title('Setup (mic and source positions)')\nshow()"
      ]
    }
  ],
  "metadata": {
    "kernelspec": {
      "display_name": "Python 3",
      "language": "python",
      "name": "python3"
    },
    "language_info": {
      "codemirror_mode": {
        "name": "ipython",
        "version": 3
      },
      "file_extension": ".py",
      "mimetype": "text/x-python",
      "name": "python",
      "nbconvert_exporter": "python",
      "pygments_lexer": "ipython3",
      "version": "3.12.7"
    }
  },
  "nbformat": 4,
  "nbformat_minor": 0
}