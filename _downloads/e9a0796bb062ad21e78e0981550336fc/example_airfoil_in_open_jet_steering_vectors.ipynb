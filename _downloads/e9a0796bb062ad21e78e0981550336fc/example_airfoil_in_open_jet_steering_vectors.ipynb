{
  "cells": [
    {
      "cell_type": "markdown",
      "metadata": {},
      "source": [
        "\n# Airfoil in open jet -- steering vectors.\n\nDemonstrates different steering vectors in Acoular and CSM diagonal removal.\nUses measured data in file example_data.h5, calibration in file example_calib.xml,\nmicrophone geometry in array_56.xml (part of Acoular).\n"
      ]
    },
    {
      "cell_type": "code",
      "execution_count": null,
      "metadata": {
        "collapsed": false
      },
      "outputs": [],
      "source": [
        "import urllib\nfrom pathlib import Path\n\nimport acoular as ac"
      ]
    },
    {
      "cell_type": "markdown",
      "metadata": {},
      "source": [
        "The 4 kHz third-octave band is used for the example.\n\n"
      ]
    },
    {
      "cell_type": "code",
      "execution_count": null,
      "metadata": {
        "collapsed": false
      },
      "outputs": [],
      "source": [
        "cfreq = 4000\nnum = 3"
      ]
    },
    {
      "cell_type": "code",
      "execution_count": null,
      "metadata": {
        "collapsed": false
      },
      "outputs": [],
      "source": [
        "calib_file = Path('../data/example_calib.xml')\nif not calib_file.exists():\n    calib_file = Path().cwd() / 'example_calib.xml'\n    if not calib_file.exists():\n        print('Cannot find calibration file. Downloading...')\n        url = 'https://github.com/acoular/acoular/tree/master/examples/data/example_calib.xml'\n        urllib.request.urlretrieve(url, calib_file)\n    print(f'Calibration file location: {calib_file}')\n\ntime_data_file = Path('../data/example_data.h5')\nif not time_data_file.exists():\n    time_data_file = Path().cwd() / 'example_data.h5'\n    if not time_data_file.exists():\n        print('Cannot find example_data.h5 file. Downloading...')\n        url = 'https://github.com/acoular/acoular/tree/master/examples/data/example_data.h5'\n        time_data_file, _ = urllib.request.urlretrieve(url, time_data_file)\n    print(f'Time data file location: {time_data_file}')"
      ]
    },
    {
      "cell_type": "markdown",
      "metadata": {},
      "source": [
        "First, we define the time samples using the :class:`acoular.sources.MaskedTimeSamples` class\nthat provides masking of channels and samples. Here, we exclude the channels with index 1 and 7 and\nonly process the first 16000 samples of the time signals.\nAlternatively, we could use the :class:`acoular.sources.TimeSamples` class that provides no masking at all.\n\n"
      ]
    },
    {
      "cell_type": "code",
      "execution_count": null,
      "metadata": {
        "collapsed": false
      },
      "outputs": [],
      "source": [
        "t1 = ac.MaskedTimeSamples(name=time_data_file)\nt1.start = 0\nt1.stop = 16000\ninvalid = [1, 7]\nt1.invalid_channels = invalid"
      ]
    },
    {
      "cell_type": "markdown",
      "metadata": {},
      "source": [
        "Calibration is usually needed and can be set directly at the :class:`acoular.sources.MaskedTimeSamples`\nobject (preferred) or for frequency domain processing at the :class:`acoular.spectra.PowerSpectra`\nobject (for backwards compatibility)\n\n"
      ]
    },
    {
      "cell_type": "code",
      "execution_count": null,
      "metadata": {
        "collapsed": false
      },
      "outputs": [],
      "source": [
        "t1.calib = ac.Calib(from_file=calib_file)"
      ]
    },
    {
      "cell_type": "markdown",
      "metadata": {},
      "source": [
        "The microphone geometry must have the same number of valid channels as the :class:`acoular.sources.MaskedTimeSamples` object has.\nIt also must be defined, which channels are invalid.\n\n"
      ]
    },
    {
      "cell_type": "code",
      "execution_count": null,
      "metadata": {
        "collapsed": false
      },
      "outputs": [],
      "source": [
        "micgeofile = Path(ac.__file__).parent / 'xml' / 'array_56.xml'\nm = ac.MicGeom(from_file=micgeofile)\nm.invalid_channels = invalid"
      ]
    },
    {
      "cell_type": "markdown",
      "metadata": {},
      "source": [
        "Next, we define a planar rectangular grid for calculating the beamforming map (the example grid is very coarse for computational efficiency).\nA 3D grid is also available via the :class:`acoular.grids.RectGrid3D` class.\n\n"
      ]
    },
    {
      "cell_type": "code",
      "execution_count": null,
      "metadata": {
        "collapsed": false
      },
      "outputs": [],
      "source": [
        "g = ac.RectGrid(x_min=-0.6, x_max=-0.0, y_min=-0.3, y_max=0.3, z=0.68, increment=0.05)"
      ]
    },
    {
      "cell_type": "markdown",
      "metadata": {},
      "source": [
        "For frequency domain methods, :class:`acoular.spectra.PowerSpectra` provides the cross spectral matrix (and its\neigenvalues and eigenvectors). Here, we use the Welch's method with a block size of 128 samples, Hanning window and 50% overlap.\n\n"
      ]
    },
    {
      "cell_type": "code",
      "execution_count": null,
      "metadata": {
        "collapsed": false
      },
      "outputs": [],
      "source": [
        "f = ac.PowerSpectra(source=t1, window='Hanning', overlap='50%', block_size=128)"
      ]
    },
    {
      "cell_type": "markdown",
      "metadata": {},
      "source": [
        "To define the measurement environment, i.e. medium characteristics, the :class:`acoular.environment.Environment` class is used.\n(in this case, only the speed of sound is set)\n\n"
      ]
    },
    {
      "cell_type": "code",
      "execution_count": null,
      "metadata": {
        "collapsed": false
      },
      "outputs": [],
      "source": [
        "env = ac.Environment(c=346.04)"
      ]
    },
    {
      "cell_type": "markdown",
      "metadata": {},
      "source": [
        "The :class:`acoular.fbeamform.SteeringVector` class provides the standard freefield\nsound propagation model in the steering vectors.\n\n"
      ]
    },
    {
      "cell_type": "code",
      "execution_count": null,
      "metadata": {
        "collapsed": false
      },
      "outputs": [],
      "source": [
        "st = ac.SteeringVector(grid=g, mics=m, env=env)"
      ]
    },
    {
      "cell_type": "markdown",
      "metadata": {},
      "source": [
        "Finally, we define two different beamformers and subsequently calculate the maps for different steering vector formulations.\nDiagonal removal for the CSM can be performed via the :attr:`r_diag` parameter.\n\n"
      ]
    },
    {
      "cell_type": "code",
      "execution_count": null,
      "metadata": {
        "collapsed": false
      },
      "outputs": [],
      "source": [
        "bb = ac.BeamformerBase(freq_data=f, steer=st, r_diag=True)\nbs = ac.BeamformerCleansc(freq_data=f, steer=st, r_diag=True)"
      ]
    },
    {
      "cell_type": "markdown",
      "metadata": {},
      "source": [
        "Plot result maps for different beamformers in frequency domain (left: with diagonal removal, right: without diagonal removal).\n\n"
      ]
    },
    {
      "cell_type": "code",
      "execution_count": null,
      "metadata": {
        "collapsed": false
      },
      "outputs": [],
      "source": [
        "from pylab import colorbar, figure, imshow, show, subplot, tight_layout, title\n\nfi = 1  # no of figure\nfor r_diag in (True, False):\n    figure(fi, (5, 6))\n    fi += 1\n    i1 = 1  # no of subplot\n    for steer in ('true level', 'true location', 'classic', 'inverse'):\n        st.steer_type = steer\n        for b in (bb, bs):\n            subplot(4, 2, i1)\n            i1 += 1\n            b.r_diag = r_diag\n            map = b.synthetic(cfreq, num)\n            mx = ac.L_p(map.max())\n            imshow(ac.L_p(map.T), vmax=mx, vmin=mx - 15, origin='lower', interpolation='nearest', extent=g.extend())\n            colorbar()\n            title(b.__class__.__name__, fontsize='small')\n\n    tight_layout()\n    show()"
      ]
    },
    {
      "cell_type": "markdown",
      "metadata": {},
      "source": [
        ".. seealso::\n   :doc:`example_airfoil_in_open_jet_freq_domain_methods` for an application of further frequency domain methods on the same data.\n\n"
      ]
    }
  ],
  "metadata": {
    "kernelspec": {
      "display_name": "Python 3",
      "language": "python",
      "name": "python3"
    },
    "language_info": {
      "codemirror_mode": {
        "name": "ipython",
        "version": 3
      },
      "file_extension": ".py",
      "mimetype": "text/x-python",
      "name": "python",
      "nbconvert_exporter": "python",
      "pygments_lexer": "ipython3",
      "version": "3.12.7"
    }
  },
  "nbformat": 4,
  "nbformat_minor": 0
}